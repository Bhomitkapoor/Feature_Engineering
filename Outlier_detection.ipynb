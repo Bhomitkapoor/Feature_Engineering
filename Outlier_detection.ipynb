{
 "cells": [
  {
   "cell_type": "code",
   "execution_count": null,
   "metadata": {},
   "outputs": [],
   "source": []
  },
  {
   "cell_type": "markdown",
   "metadata": {},
   "source": [
    "### An Outlier \n",
    " A data point in a data set that is distant or wide away spreaded from all other observations. A data point that lies outside the overall distribution of the dataset.\n",
    "\n",
    "        Reason: Error in data - unintentional or experimental or natural.\n",
    "\n",
    "### Identifying an outlier\n",
    "\n",
    "`Data point that falls outside of 1.5 times of an interquartile range i.e. above the 3rd quartile and below the 1st quartile`\n",
    "\n",
    "`Data point that falls outside of 3 standard deviations, Here, we can use a z score and if the z score falls outside of 2 or 3rd standard deviation then it is an outlier.`\n",
    "\n",
    "        Impacts of outliers -> The statistica analysis will get incorrect results.\n",
    "                            -> Outliers are not removed from the dataset, impacts the Mean and Standard deviation.\n",
    "\n",
    "\n",
    "\n",
    "                                                        Using scatter plots\n",
    "                                                                |\n",
    "                                                                |                   \n",
    "                IQR interquantile range ---------- Various ways of finding the outlier ------------- Boxplot\n",
    "                                                                |\n",
    "                                                                |\n",
    "                                                                Using Z Score\n",
    "\n",
    "\n",
    "\n",
    "Detecting outlier using Z score\n",
    "Using Z score\n",
    "Formula for Z score = (Observation sample — Mean)/Standard Deviation\n",
    "\n",
    "z = (X — μ) / σ\n",
    "\n"
   ]
  },
  {
   "cell_type": "code",
   "execution_count": 66,
   "metadata": {},
   "outputs": [],
   "source": [
    "dataset = [1400,1476, 1500, 1979, 2010, 2013, 2016, 2019, 2022, 2025, 2028, 2031, 2034, 2037, 2040, 2043, 2046, 2049, 2052, 2055, 2058, 2061, 2064, 2301,2700]"
   ]
  },
  {
   "cell_type": "code",
   "execution_count": 54,
   "metadata": {},
   "outputs": [],
   "source": [
    "import numpy as np\n",
    "import matplotlib.pyplot as plt\n",
    "%matplotlib inline"
   ]
  },
  {
   "cell_type": "code",
   "execution_count": 55,
   "metadata": {},
   "outputs": [],
   "source": [
    "outliers=[]\n",
    "def detect_outliers(data):\n",
    "    \n",
    "    threshold=3\n",
    "    mean = np.mean(data)\n",
    "    std =np.std(data)\n",
    "    \n",
    "    \n",
    "    for i in data:\n",
    "        z_score= (i - mean)/std \n",
    "        if np.abs(z_score) > threshold:\n",
    "            outliers.append(i)\n",
    "    return outliers"
   ]
  },
  {
   "cell_type": "code",
   "execution_count": 67,
   "metadata": {},
   "outputs": [],
   "source": [
    "outlier_pt=detect_outliers(dataset)\n"
   ]
  },
  {
   "cell_type": "code",
   "execution_count": 68,
   "metadata": {},
   "outputs": [
    {
     "data": {
      "text/plain": [
       "[1400, 1476, 1500, 2700]"
      ]
     },
     "execution_count": 68,
     "metadata": {},
     "output_type": "execute_result"
    }
   ],
   "source": [
    "outlier_pt"
   ]
  },
  {
   "cell_type": "markdown",
   "metadata": {},
   "source": [
    "# InterQuantile Range method\n",
    "    data points that fall below Q1 - 1.5 * IQR or above Q3 + 1.5 * IQR are considered outliers.\n",
    "\n",
    "\n",
    "Steps\n",
    "1. Arrange the data in increasing order\n",
    "2. Calculate first(q1) and third quartile(q3)\n",
    "3. Find interquartile range (q3-q1)\n",
    "4. Find lower bound q1*1.5\n",
    "5. Find upper bound q3*1.5\n",
    "6. Anything that lies outside of lower and upper bound is an outlier"
   ]
  },
  {
   "cell_type": "code",
   "execution_count": 69,
   "metadata": {},
   "outputs": [
    {
     "data": {
      "text/plain": [
       "[1400, 1476, 1500, 2301, 2700]"
      ]
     },
     "execution_count": 69,
     "metadata": {},
     "output_type": "execute_result"
    }
   ],
   "source": [
    "# Using the IQR method for detecting outliers\n",
    "\n",
    "def detect_outliers_iqr(data):\n",
    "    outliers = []\n",
    "    data_sorted = sorted(data)     # sorting the data - step 1\n",
    "\n",
    "    q1, q3 = np.percentile(data_sorted, [25, 75])       # calculating the first and third quartile\n",
    "\n",
    "    iqr = q3 - q1                                  # calculating the interquartile range\n",
    "\n",
    "    lower_bound = q1 - (1.5 * iqr)                  # lower bound of the range\n",
    "    upper_bound = q3 + (1.5 * iqr)                  # upper bound of the range\n",
    "\n",
    "    for i in data:                                      # for loop to go over the data\n",
    "        if i < lower_bound or i > upper_bound:\n",
    "            outliers.append(i)\n",
    "    \n",
    "    return outliers\n",
    "\n",
    "outliers_iqr = detect_outliers_iqr(dataset)\n",
    "outliers_iqr\n",
    "\n"
   ]
  }
 ],
 "metadata": {
  "kernelspec": {
   "display_name": "visa",
   "language": "python",
   "name": "python3"
  },
  "language_info": {
   "codemirror_mode": {
    "name": "ipython",
    "version": 3
   },
   "file_extension": ".py",
   "mimetype": "text/x-python",
   "name": "python",
   "nbconvert_exporter": "python",
   "pygments_lexer": "ipython3",
   "version": "3.8.18"
  }
 },
 "nbformat": 4,
 "nbformat_minor": 2
}
